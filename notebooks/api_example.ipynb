{
 "cells": [
  {
   "cell_type": "code",
   "execution_count": 1,
   "metadata": {},
   "outputs": [],
   "source": [
    "from bids_neuropoly import bids"
   ]
  },
  {
   "cell_type": "code",
   "execution_count": 2,
   "metadata": {},
   "outputs": [],
   "source": [
    "ds = bids.BIDS(\"./bids_unf_sct_ver1\")"
   ]
  },
  {
   "cell_type": "code",
   "execution_count": 3,
   "metadata": {},
   "outputs": [
    {
     "data": {
      "text/plain": [
       "DatasetDescription: SCT_dataset/unf_sct_ver1"
      ]
     },
     "execution_count": 3,
     "metadata": {},
     "output_type": "execute_result"
    }
   ],
   "source": [
    "ds"
   ]
  },
  {
   "cell_type": "code",
   "execution_count": 4,
   "metadata": {},
   "outputs": [
    {
     "data": {
      "text/plain": [
       "Participants: 16"
      ]
     },
     "execution_count": 4,
     "metadata": {},
     "output_type": "execute_result"
    }
   ],
   "source": [
    "ds.participants"
   ]
  },
  {
   "cell_type": "code",
   "execution_count": 5,
   "metadata": {},
   "outputs": [
    {
     "data": {
      "text/html": [
       "<div>\n",
       "<style scoped>\n",
       "    .dataframe tbody tr th:only-of-type {\n",
       "        vertical-align: middle;\n",
       "    }\n",
       "\n",
       "    .dataframe tbody tr th {\n",
       "        vertical-align: top;\n",
       "    }\n",
       "\n",
       "    .dataframe thead th {\n",
       "        text-align: right;\n",
       "    }\n",
       "</style>\n",
       "<table border=\"1\" class=\"dataframe\">\n",
       "  <thead>\n",
       "    <tr style=\"text-align: right;\">\n",
       "      <th></th>\n",
       "      <th>absolute_path</th>\n",
       "      <th>data_type</th>\n",
       "      <th>dataset_root</th>\n",
       "      <th>modality</th>\n",
       "      <th>subject_id</th>\n",
       "    </tr>\n",
       "  </thead>\n",
       "  <tbody>\n",
       "    <tr>\n",
       "      <th>45</th>\n",
       "      <td>/Users/perone/Devel/bids_neuropoly/tests/bids_...</td>\n",
       "      <td>dwi</td>\n",
       "      <td>/Users/perone/Devel/bids_neuropoly/tests/bids_...</td>\n",
       "      <td>dwi</td>\n",
       "      <td>sub-007</td>\n",
       "    </tr>\n",
       "    <tr>\n",
       "      <th>46</th>\n",
       "      <td>/Users/perone/Devel/bids_neuropoly/tests/bids_...</td>\n",
       "      <td>anat</td>\n",
       "      <td>/Users/perone/Devel/bids_neuropoly/tests/bids_...</td>\n",
       "      <td>T2w</td>\n",
       "      <td>sub-007</td>\n",
       "    </tr>\n",
       "    <tr>\n",
       "      <th>47</th>\n",
       "      <td>/Users/perone/Devel/bids_neuropoly/tests/bids_...</td>\n",
       "      <td>anat</td>\n",
       "      <td>/Users/perone/Devel/bids_neuropoly/tests/bids_...</td>\n",
       "      <td>T1w</td>\n",
       "      <td>sub-007</td>\n",
       "    </tr>\n",
       "    <tr>\n",
       "      <th>48</th>\n",
       "      <td>/Users/perone/Devel/bids_neuropoly/tests/bids_...</td>\n",
       "      <td>anat</td>\n",
       "      <td>/Users/perone/Devel/bids_neuropoly/tests/bids_...</td>\n",
       "      <td>acq-MTon_MTR</td>\n",
       "      <td>sub-007</td>\n",
       "    </tr>\n",
       "    <tr>\n",
       "      <th>49</th>\n",
       "      <td>/Users/perone/Devel/bids_neuropoly/tests/bids_...</td>\n",
       "      <td>anat</td>\n",
       "      <td>/Users/perone/Devel/bids_neuropoly/tests/bids_...</td>\n",
       "      <td>acq-MToff_MTR</td>\n",
       "      <td>sub-007</td>\n",
       "    </tr>\n",
       "  </tbody>\n",
       "</table>\n",
       "</div>"
      ],
      "text/plain": [
       "                                        absolute_path data_type  \\\n",
       "45  /Users/perone/Devel/bids_neuropoly/tests/bids_...       dwi   \n",
       "46  /Users/perone/Devel/bids_neuropoly/tests/bids_...      anat   \n",
       "47  /Users/perone/Devel/bids_neuropoly/tests/bids_...      anat   \n",
       "48  /Users/perone/Devel/bids_neuropoly/tests/bids_...      anat   \n",
       "49  /Users/perone/Devel/bids_neuropoly/tests/bids_...      anat   \n",
       "\n",
       "                                         dataset_root       modality  \\\n",
       "45  /Users/perone/Devel/bids_neuropoly/tests/bids_...            dwi   \n",
       "46  /Users/perone/Devel/bids_neuropoly/tests/bids_...            T2w   \n",
       "47  /Users/perone/Devel/bids_neuropoly/tests/bids_...            T1w   \n",
       "48  /Users/perone/Devel/bids_neuropoly/tests/bids_...   acq-MTon_MTR   \n",
       "49  /Users/perone/Devel/bids_neuropoly/tests/bids_...  acq-MToff_MTR   \n",
       "\n",
       "   subject_id  \n",
       "45    sub-007  \n",
       "46    sub-007  \n",
       "47    sub-007  \n",
       "48    sub-007  \n",
       "49    sub-007  "
      ]
     },
     "execution_count": 5,
     "metadata": {},
     "output_type": "execute_result"
    }
   ],
   "source": [
    "ds.as_dataframe().tail()"
   ]
  },
  {
   "cell_type": "code",
   "execution_count": 6,
   "metadata": {},
   "outputs": [],
   "source": [
    "subjects = ds.get_subjects()"
   ]
  },
  {
   "cell_type": "code",
   "execution_count": 8,
   "metadata": {},
   "outputs": [],
   "source": [
    "sub = subjects[2]"
   ]
  },
  {
   "cell_type": "code",
   "execution_count": 9,
   "metadata": {},
   "outputs": [
    {
     "data": {
      "text/plain": [
       "Subject: sub-010/anat/T2w"
      ]
     },
     "execution_count": 9,
     "metadata": {},
     "output_type": "execute_result"
    }
   ],
   "source": [
    "sub"
   ]
  },
  {
   "cell_type": "code",
   "execution_count": 11,
   "metadata": {},
   "outputs": [
    {
     "data": {
      "text/plain": [
       "True"
      ]
     },
     "execution_count": 11,
     "metadata": {},
     "output_type": "execute_result"
    }
   ],
   "source": [
    "sub.has_derivative(\"labels\")"
   ]
  },
  {
   "cell_type": "code",
   "execution_count": 12,
   "metadata": {},
   "outputs": [
    {
     "data": {
      "text/plain": [
       "['/Users/perone/Devel/bids_neuropoly/tests/bids_unf_sct_ver1/derivatives/labels/sub-010/anat/sub-010_T2w_seg-labeled.nii.gz',\n",
       " '/Users/perone/Devel/bids_neuropoly/tests/bids_unf_sct_ver1/derivatives/labels/sub-010/anat/sub-010_T2w_seg-manual.nii.gz',\n",
       " '/Users/perone/Devel/bids_neuropoly/tests/bids_unf_sct_ver1/derivatives/labels/sub-010/anat/sub-010_T2w_seg-manual.json',\n",
       " '/Users/perone/Devel/bids_neuropoly/tests/bids_unf_sct_ver1/derivatives/labels/sub-010/anat/sub-010_T2w_seg-labeled-discs.nii.gz']"
      ]
     },
     "execution_count": 12,
     "metadata": {},
     "output_type": "execute_result"
    }
   ],
   "source": [
    "sub.get_derivatives(\"labels\")"
   ]
  },
  {
   "cell_type": "code",
   "execution_count": 13,
   "metadata": {},
   "outputs": [
    {
     "data": {
      "text/plain": [
       "True"
      ]
     },
     "execution_count": 13,
     "metadata": {},
     "output_type": "execute_result"
    }
   ],
   "source": [
    "sub.has_metadata()"
   ]
  },
  {
   "cell_type": "code",
   "execution_count": 14,
   "metadata": {},
   "outputs": [
    {
     "data": {
      "text/plain": [
       "{'Axial': 0.800000011920929,\n",
       " 'Contrast': 't2',\n",
       " 'Coronal': 0.800000011920929,\n",
       " 'EndCoverage': '',\n",
       " 'GmModel': False,\n",
       " 'MsMapping': False,\n",
       " 'Orientation': 'ax',\n",
       " 'Pam50': False,\n",
       " 'Sagittal': 0.799999952316284,\n",
       " 'StartCoverage': ''}"
      ]
     },
     "execution_count": 14,
     "metadata": {},
     "output_type": "execute_result"
    }
   ],
   "source": [
    "sub.metadata()"
   ]
  },
  {
   "cell_type": "code",
   "execution_count": 15,
   "metadata": {},
   "outputs": [],
   "source": [
    "only_t1w = ds.query(\"modality == 'T1w'\")"
   ]
  },
  {
   "cell_type": "code",
   "execution_count": 16,
   "metadata": {},
   "outputs": [
    {
     "data": {
      "text/plain": [
       "[Subject: sub-011/anat/T1w,\n",
       " Subject: sub-005/anat/T1w,\n",
       " Subject: sub-003/anat/T1w,\n",
       " Subject: sub-014/anat/T1w,\n",
       " Subject: sub-013/anat/T1w,\n",
       " Subject: sub-012/anat/T1w,\n",
       " Subject: sub-008/anat/T1w,\n",
       " Subject: sub-007/anat/T1w]"
      ]
     },
     "execution_count": 16,
     "metadata": {},
     "output_type": "execute_result"
    }
   ],
   "source": [
    "only_t1w"
   ]
  },
  {
   "cell_type": "code",
   "execution_count": 17,
   "metadata": {},
   "outputs": [
    {
     "data": {
      "text/plain": [
       "8"
      ]
     },
     "execution_count": 17,
     "metadata": {},
     "output_type": "execute_result"
    }
   ],
   "source": [
    "len(only_t1w)"
   ]
  },
  {
   "cell_type": "code",
   "execution_count": 18,
   "metadata": {},
   "outputs": [],
   "source": [
    "volume = only_t1w[1].load()"
   ]
  },
  {
   "cell_type": "code",
   "execution_count": 19,
   "metadata": {},
   "outputs": [
    {
     "name": "stdout",
     "output_type": "stream",
     "text": [
      "<class 'nibabel.nifti1.Nifti1Header'> object, endian='<'\n",
      "sizeof_hdr      : 348\n",
      "data_type       : b''\n",
      "db_name         : b'?TR:2300.000 TE:2.'\n",
      "extents         : 0\n",
      "session_error   : 0\n",
      "regular         : b'r'\n",
      "dim_info        : 0\n",
      "dim             : [  3 240 320 192   1   1   1   1]\n",
      "intent_p1       : 0.0\n",
      "intent_p2       : 0.0\n",
      "intent_p3       : 0.0\n",
      "intent_code     : none\n",
      "datatype        : int16\n",
      "bitpix          : 16\n",
      "slice_start     : 0\n",
      "pixdim          : [-1.0000000e+00  1.0000000e+00  1.0000000e+00  1.0000000e+00\n",
      "  2.3000000e+00  1.0000000e+00  1.0000000e+00  5.9921805e+04]\n",
      "vox_offset      : 0.0\n",
      "scl_slope       : nan\n",
      "scl_inter       : nan\n",
      "slice_end       : 0\n",
      "slice_code      : unknown\n",
      "xyzt_units      : 10\n",
      "cal_max         : 0.0\n",
      "cal_min         : 0.0\n",
      "slice_duration  : 0.0\n",
      "toffset         : 0.0\n",
      "glmax           : 255\n",
      "glmin           : 0\n",
      "descrip         : b''\n",
      "aux_file        : b''\n",
      "qform_code      : scanner\n",
      "sform_code      : scanner\n",
      "quatern_b       : 0.47797507\n",
      "quatern_c       : -0.55276346\n",
      "quatern_d       : -0.44649944\n",
      "qoffset_x       : -83.7076\n",
      "qoffset_y       : 123.299805\n",
      "qoffset_z       : -103.766335\n",
      "srow_x          : [-9.8184394e-03 -6.7302868e-02  9.9768424e-01 -8.3707603e+01]\n",
      "srow_y          : [ -0.9895258    0.14435624   0.         123.299805  ]\n",
      "srow_z          : [ 1.44021943e-01  9.87234294e-01  6.80152774e-02 -1.03766335e+02]\n",
      "intent_name     : b''\n",
      "magic           : b'n+1'\n"
     ]
    }
   ],
   "source": [
    "print(volume.header)"
   ]
  },
  {
   "cell_type": "code",
   "execution_count": null,
   "metadata": {},
   "outputs": [],
   "source": []
  },
  {
   "cell_type": "code",
   "execution_count": null,
   "metadata": {},
   "outputs": [],
   "source": []
  }
 ],
 "metadata": {
  "kernelspec": {
   "display_name": "Python 3",
   "language": "python",
   "name": "python3"
  },
  "language_info": {
   "codemirror_mode": {
    "name": "ipython",
    "version": 3
   },
   "file_extension": ".py",
   "mimetype": "text/x-python",
   "name": "python",
   "nbconvert_exporter": "python",
   "pygments_lexer": "ipython3",
   "version": "3.6.4"
  }
 },
 "nbformat": 4,
 "nbformat_minor": 2
}
